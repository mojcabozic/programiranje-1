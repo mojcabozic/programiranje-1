{
 "cells": [
  {
   "cell_type": "markdown",
   "metadata": {},
   "source": [
    "# Analiza podatkov s pandas\n",
    "\n",
    "[Pandas quick-start guide](http://pandas.pydata.org/pandas-docs/stable/10min.html)  \n",
    "[Pandas documentation](http://pandas.pydata.org/pandas-docs/stable/)  \n",
    "[Lecture notes on pandas](../predavanja/Analiza podatkov s knjižnico Pandas.ipynb)\n"
   ]
  },
  {
   "cell_type": "markdown",
   "metadata": {},
   "source": [
    "### Naložimo pandas in podatke"
   ]
  },
  {
   "cell_type": "code",
   "execution_count": 43,
   "metadata": {},
   "outputs": [],
   "source": [
    "import pandas as pd\n",
    "import os.path\n",
    "\n",
    "%matplotlib inline\n",
    "\n",
    "pd.options.display.max_rows = 10\n",
    "# naložimo razpredelnico, s katero bomo delali\n",
    "filmi = pd.read_csv(\"../../02-zajem-podatkov/predavanja/obdelani-podatki/filmi.csv\", index_col=\"id\")\n"
   ]
  },
  {
   "cell_type": "markdown",
   "metadata": {},
   "source": [
    "Poglejmo si podatke."
   ]
  },
  {
   "cell_type": "code",
   "execution_count": 5,
   "metadata": {},
   "outputs": [
    {
     "data": {
      "text/html": "<div>\n<style scoped>\n    .dataframe tbody tr th:only-of-type {\n        vertical-align: middle;\n    }\n\n    .dataframe tbody tr th {\n        vertical-align: top;\n    }\n\n    .dataframe thead th {\n        text-align: right;\n    }\n</style>\n<table border=\"1\" class=\"dataframe\">\n  <thead>\n    <tr style=\"text-align: right;\">\n      <th></th>\n      <th>id</th>\n      <th>naslov</th>\n      <th>dolzina</th>\n      <th>leto</th>\n      <th>ocena</th>\n      <th>metascore</th>\n      <th>glasovi</th>\n      <th>zasluzek</th>\n      <th>oznaka</th>\n      <th>opis</th>\n    </tr>\n  </thead>\n  <tbody>\n    <tr>\n      <th>0</th>\n      <td>4972</td>\n      <td>The Birth of a Nation</td>\n      <td>195</td>\n      <td>1915</td>\n      <td>6.3</td>\n      <td>NaN</td>\n      <td>22363</td>\n      <td>10000000.0</td>\n      <td>NaN</td>\n      <td>The Stoneman family finds its friendship with ...</td>\n    </tr>\n    <tr>\n      <th>1</th>\n      <td>6864</td>\n      <td>Intolerance: Love's Struggle Throughout the Ages</td>\n      <td>163</td>\n      <td>1916</td>\n      <td>7.7</td>\n      <td>99.0</td>\n      <td>13970</td>\n      <td>2180000.0</td>\n      <td>NaN</td>\n      <td>The story of a poor young woman, separated by ...</td>\n    </tr>\n    <tr>\n      <th>2</th>\n      <td>9968</td>\n      <td>Broken Blossoms or The Yellow Man and the Girl</td>\n      <td>90</td>\n      <td>1919</td>\n      <td>7.3</td>\n      <td>NaN</td>\n      <td>9296</td>\n      <td>NaN</td>\n      <td>NaN</td>\n      <td>A frail waif, abused by her brutal boxer fathe...</td>\n    </tr>\n    <tr>\n      <th>3</th>\n      <td>10323</td>\n      <td>Das Cabinet des Dr. Caligari</td>\n      <td>76</td>\n      <td>1920</td>\n      <td>8.1</td>\n      <td>NaN</td>\n      <td>56089</td>\n      <td>NaN</td>\n      <td>NaN</td>\n      <td>Hypnotist Dr. Caligari uses a somnambulist, Ce...</td>\n    </tr>\n    <tr>\n      <th>4</th>\n      <td>12349</td>\n      <td>The Kid</td>\n      <td>68</td>\n      <td>1921</td>\n      <td>8.3</td>\n      <td>NaN</td>\n      <td>110278</td>\n      <td>5450000.0</td>\n      <td>NaN</td>\n      <td>The Tramp cares for an abandoned child, but ev...</td>\n    </tr>\n    <tr>\n      <th>...</th>\n      <td>...</td>\n      <td>...</td>\n      <td>...</td>\n      <td>...</td>\n      <td>...</td>\n      <td>...</td>\n      <td>...</td>\n      <td>...</td>\n      <td>...</td>\n      <td>...</td>\n    </tr>\n    <tr>\n      <th>9995</th>\n      <td>11390036</td>\n      <td>A Fall from Grace</td>\n      <td>115</td>\n      <td>2020</td>\n      <td>5.8</td>\n      <td>34.0</td>\n      <td>10414</td>\n      <td>NaN</td>\n      <td>NaN</td>\n      <td>Disheartened since her ex-husband's affair, Gr...</td>\n    </tr>\n    <tr>\n      <th>9996</th>\n      <td>11905962</td>\n      <td>Sputnik</td>\n      <td>113</td>\n      <td>2020</td>\n      <td>6.3</td>\n      <td>61.0</td>\n      <td>8285</td>\n      <td>NaN</td>\n      <td>NaN</td>\n      <td>The lone survivor of an enigmatic spaceship in...</td>\n    </tr>\n    <tr>\n      <th>9997</th>\n      <td>12393526</td>\n      <td>Bulbbul</td>\n      <td>94</td>\n      <td>2020</td>\n      <td>6.6</td>\n      <td>NaN</td>\n      <td>8381</td>\n      <td>NaN</td>\n      <td>NaN</td>\n      <td>A man returns home after years to find his bro...</td>\n    </tr>\n    <tr>\n      <th>9998</th>\n      <td>12567088</td>\n      <td>Raat Akeli Hai</td>\n      <td>149</td>\n      <td>2020</td>\n      <td>7.3</td>\n      <td>NaN</td>\n      <td>12232</td>\n      <td>NaN</td>\n      <td>NaN</td>\n      <td>The film follows a small town cop who is summo...</td>\n    </tr>\n    <tr>\n      <th>9999</th>\n      <td>12749596</td>\n      <td>Host</td>\n      <td>57</td>\n      <td>2020</td>\n      <td>6.6</td>\n      <td>72.0</td>\n      <td>8713</td>\n      <td>NaN</td>\n      <td>NaN</td>\n      <td>Six friends hire a medium to hold a seance via...</td>\n    </tr>\n  </tbody>\n</table>\n<p>10000 rows × 10 columns</p>\n</div>",
      "text/plain": "            id                                            naslov  dolzina  \\\n0         4972                             The Birth of a Nation      195   \n1         6864  Intolerance: Love's Struggle Throughout the Ages      163   \n2         9968    Broken Blossoms or The Yellow Man and the Girl       90   \n3        10323                      Das Cabinet des Dr. Caligari       76   \n4        12349                                           The Kid       68   \n...        ...                                               ...      ...   \n9995  11390036                                 A Fall from Grace      115   \n9996  11905962                                           Sputnik      113   \n9997  12393526                                           Bulbbul       94   \n9998  12567088                                    Raat Akeli Hai      149   \n9999  12749596                                              Host       57   \n\n      leto  ocena  metascore  glasovi    zasluzek oznaka  \\\n0     1915    6.3        NaN    22363  10000000.0    NaN   \n1     1916    7.7       99.0    13970   2180000.0    NaN   \n2     1919    7.3        NaN     9296         NaN    NaN   \n3     1920    8.1        NaN    56089         NaN    NaN   \n4     1921    8.3        NaN   110278   5450000.0    NaN   \n...    ...    ...        ...      ...         ...    ...   \n9995  2020    5.8       34.0    10414         NaN    NaN   \n9996  2020    6.3       61.0     8285         NaN    NaN   \n9997  2020    6.6        NaN     8381         NaN    NaN   \n9998  2020    7.3        NaN    12232         NaN    NaN   \n9999  2020    6.6       72.0     8713         NaN    NaN   \n\n                                                   opis  \n0     The Stoneman family finds its friendship with ...  \n1     The story of a poor young woman, separated by ...  \n2     A frail waif, abused by her brutal boxer fathe...  \n3     Hypnotist Dr. Caligari uses a somnambulist, Ce...  \n4     The Tramp cares for an abandoned child, but ev...  \n...                                                 ...  \n9995  Disheartened since her ex-husband's affair, Gr...  \n9996  The lone survivor of an enigmatic spaceship in...  \n9997  A man returns home after years to find his bro...  \n9998  The film follows a small town cop who is summo...  \n9999  Six friends hire a medium to hold a seance via...  \n\n[10000 rows x 10 columns]"
     },
     "execution_count": 5,
     "metadata": {},
     "output_type": "execute_result"
    }
   ],
   "source": [
    "filmi"
   ]
  },
  {
   "cell_type": "markdown",
   "metadata": {},
   "source": [
    "## Proučevanje podatkov\n",
    "\n",
    "Razvrstite podatke po ocenah."
   ]
  },
  {
   "cell_type": "code",
   "execution_count": 6,
   "metadata": {},
   "outputs": [
    {
     "data": {
      "text/html": "<div>\n<style scoped>\n    .dataframe tbody tr th:only-of-type {\n        vertical-align: middle;\n    }\n\n    .dataframe tbody tr th {\n        vertical-align: top;\n    }\n\n    .dataframe thead th {\n        text-align: right;\n    }\n</style>\n<table border=\"1\" class=\"dataframe\">\n  <thead>\n    <tr style=\"text-align: right;\">\n      <th></th>\n      <th>id</th>\n      <th>naslov</th>\n      <th>dolzina</th>\n      <th>leto</th>\n      <th>ocena</th>\n      <th>metascore</th>\n      <th>glasovi</th>\n      <th>zasluzek</th>\n      <th>oznaka</th>\n      <th>opis</th>\n    </tr>\n  </thead>\n  <tbody>\n    <tr>\n      <th>9739</th>\n      <td>7221896</td>\n      <td>Cumali Ceber: Allah Seni Alsin</td>\n      <td>100</td>\n      <td>2017</td>\n      <td>1.0</td>\n      <td>NaN</td>\n      <td>37659</td>\n      <td>NaN</td>\n      <td>NaN</td>\n      <td>Cumali Ceber goes to a vacation with his child...</td>\n    </tr>\n    <tr>\n      <th>9825</th>\n      <td>7886848</td>\n      <td>Sadak 2</td>\n      <td>133</td>\n      <td>2020</td>\n      <td>1.1</td>\n      <td>NaN</td>\n      <td>57957</td>\n      <td>NaN</td>\n      <td>NaN</td>\n      <td>The film picks up where Sadak left off, revolv...</td>\n    </tr>\n    <tr>\n      <th>8983</th>\n      <td>4009460</td>\n      <td>Saving Christmas</td>\n      <td>79</td>\n      <td>2014</td>\n      <td>1.4</td>\n      <td>18.0</td>\n      <td>14855</td>\n      <td>2783970.0</td>\n      <td>PG</td>\n      <td>His annual Christmas party faltering thanks to...</td>\n    </tr>\n    <tr>\n      <th>9505</th>\n      <td>5988370</td>\n      <td>Reis</td>\n      <td>108</td>\n      <td>2017</td>\n      <td>1.4</td>\n      <td>NaN</td>\n      <td>72207</td>\n      <td>NaN</td>\n      <td>NaN</td>\n      <td>A drama about the early life of Recep Tayyip E...</td>\n    </tr>\n    <tr>\n      <th>9513</th>\n      <td>6038600</td>\n      <td>Smolensk</td>\n      <td>120</td>\n      <td>2016</td>\n      <td>1.4</td>\n      <td>NaN</td>\n      <td>7630</td>\n      <td>NaN</td>\n      <td>NaN</td>\n      <td>Inspired by true events of 2010 Polish Air For...</td>\n    </tr>\n    <tr>\n      <th>...</th>\n      <td>...</td>\n      <td>...</td>\n      <td>...</td>\n      <td>...</td>\n      <td>...</td>\n      <td>...</td>\n      <td>...</td>\n      <td>...</td>\n      <td>...</td>\n      <td>...</td>\n    </tr>\n    <tr>\n      <th>4059</th>\n      <td>252488</td>\n      <td>Hababam Sinifi Sinifta Kaldi</td>\n      <td>91</td>\n      <td>1976</td>\n      <td>9.0</td>\n      <td>NaN</td>\n      <td>21288</td>\n      <td>NaN</td>\n      <td>NaN</td>\n      <td>A young and beautiful female teacher starts wo...</td>\n    </tr>\n    <tr>\n      <th>9355</th>\n      <td>5354160</td>\n      <td>Aynabaji</td>\n      <td>147</td>\n      <td>2016</td>\n      <td>9.1</td>\n      <td>NaN</td>\n      <td>21429</td>\n      <td>NaN</td>\n      <td>NaN</td>\n      <td>Ayna is an actor and the prison is his stage. ...</td>\n    </tr>\n    <tr>\n      <th>908</th>\n      <td>68646</td>\n      <td>Boter</td>\n      <td>175</td>\n      <td>1972</td>\n      <td>9.2</td>\n      <td>100.0</td>\n      <td>1582906</td>\n      <td>134966411.0</td>\n      <td>NaN</td>\n      <td>The aging patriarch of an organized crime dyna...</td>\n    </tr>\n    <tr>\n      <th>4058</th>\n      <td>252487</td>\n      <td>Hababam Sinifi</td>\n      <td>87</td>\n      <td>1975</td>\n      <td>9.3</td>\n      <td>NaN</td>\n      <td>36468</td>\n      <td>NaN</td>\n      <td>NaN</td>\n      <td>Lazy, uneducated students share a very close b...</td>\n    </tr>\n    <tr>\n      <th>2734</th>\n      <td>111161</td>\n      <td>Kaznilnica odrešitve</td>\n      <td>142</td>\n      <td>1994</td>\n      <td>9.3</td>\n      <td>80.0</td>\n      <td>2293163</td>\n      <td>28341469.0</td>\n      <td>R</td>\n      <td>Two imprisoned men bond over a number of years...</td>\n    </tr>\n  </tbody>\n</table>\n<p>10000 rows × 10 columns</p>\n</div>",
      "text/plain": "           id                          naslov  dolzina  leto  ocena  \\\n9739  7221896  Cumali Ceber: Allah Seni Alsin      100  2017    1.0   \n9825  7886848                         Sadak 2      133  2020    1.1   \n8983  4009460                Saving Christmas       79  2014    1.4   \n9505  5988370                            Reis      108  2017    1.4   \n9513  6038600                        Smolensk      120  2016    1.4   \n...       ...                             ...      ...   ...    ...   \n4059   252488    Hababam Sinifi Sinifta Kaldi       91  1976    9.0   \n9355  5354160                        Aynabaji      147  2016    9.1   \n908     68646                           Boter      175  1972    9.2   \n4058   252487                  Hababam Sinifi       87  1975    9.3   \n2734   111161            Kaznilnica odrešitve      142  1994    9.3   \n\n      metascore  glasovi     zasluzek oznaka  \\\n9739        NaN    37659          NaN    NaN   \n9825        NaN    57957          NaN    NaN   \n8983       18.0    14855    2783970.0     PG   \n9505        NaN    72207          NaN    NaN   \n9513        NaN     7630          NaN    NaN   \n...         ...      ...          ...    ...   \n4059        NaN    21288          NaN    NaN   \n9355        NaN    21429          NaN    NaN   \n908       100.0  1582906  134966411.0    NaN   \n4058        NaN    36468          NaN    NaN   \n2734       80.0  2293163   28341469.0      R   \n\n                                                   opis  \n9739  Cumali Ceber goes to a vacation with his child...  \n9825  The film picks up where Sadak left off, revolv...  \n8983  His annual Christmas party faltering thanks to...  \n9505  A drama about the early life of Recep Tayyip E...  \n9513  Inspired by true events of 2010 Polish Air For...  \n...                                                 ...  \n4059  A young and beautiful female teacher starts wo...  \n9355  Ayna is an actor and the prison is his stage. ...  \n908   The aging patriarch of an organized crime dyna...  \n4058  Lazy, uneducated students share a very close b...  \n2734  Two imprisoned men bond over a number of years...  \n\n[10000 rows x 10 columns]"
     },
     "execution_count": 6,
     "metadata": {},
     "output_type": "execute_result"
    }
   ],
   "source": [
    "filmi.sort_values(\"ocena\")"
   ]
  },
  {
   "cell_type": "markdown",
   "metadata": {},
   "source": [
    "Poberite stolpec ocen."
   ]
  },
  {
   "cell_type": "code",
   "execution_count": 8,
   "metadata": {},
   "outputs": [],
   "source": [
    "ocene = filmi.sort_values(\"ocena\")"
   ]
  },
  {
   "cell_type": "markdown",
   "metadata": {},
   "source": [
    "Ukaza `filmi['ocena']` in `filmi[['ocena']]` sta različna:"
   ]
  },
  {
   "cell_type": "code",
   "execution_count": null,
   "metadata": {},
   "outputs": [],
   "source": [
    "print(type(filmi['ocena'])) #seznam\n",
    "print(type(filmi[['ocena']])) #podtabela"
   ]
  },
  {
   "cell_type": "markdown",
   "metadata": {},
   "source": [
    "Stolpci objekta `DataFrame` so tipa `Series`. Z enojnimi oklepaji poberemo `Series`, z dvojnimi oklepaji pa `DataFrame` podtabelo. Večina operacij (grouping, joining, plotting,  filtering, ...) deluje na `DataFrame`. \n",
    "\n",
    "Tip `Series` se uporablja ko želimo npr. dodati stolpec."
   ]
  },
  {
   "cell_type": "markdown",
   "metadata": {},
   "source": [
    "Zaokrožite stolpec ocen z funkcijo `round()`."
   ]
  },
  {
   "cell_type": "code",
   "execution_count": 25,
   "metadata": {},
   "outputs": [],
   "source": [
    "ocene_rounded = filmi[\"ocena\"].round(0)"
   ]
  },
  {
   "cell_type": "markdown",
   "metadata": {},
   "source": [
    "Dodajte zaokrožene vrednosti v podatke."
   ]
  },
  {
   "cell_type": "code",
   "execution_count": 27,
   "metadata": {},
   "outputs": [
    {
     "data": {
      "text/html": "<div>\n<style scoped>\n    .dataframe tbody tr th:only-of-type {\n        vertical-align: middle;\n    }\n\n    .dataframe tbody tr th {\n        vertical-align: top;\n    }\n\n    .dataframe thead th {\n        text-align: right;\n    }\n</style>\n<table border=\"1\" class=\"dataframe\">\n  <thead>\n    <tr style=\"text-align: right;\">\n      <th></th>\n      <th>id</th>\n      <th>naslov</th>\n      <th>dolzina</th>\n      <th>leto</th>\n      <th>ocena</th>\n      <th>metascore</th>\n      <th>glasovi</th>\n      <th>zasluzek</th>\n      <th>oznaka</th>\n      <th>opis</th>\n      <th>ocene_rounded</th>\n    </tr>\n  </thead>\n  <tbody>\n    <tr>\n      <th>9997</th>\n      <td>12393526</td>\n      <td>Bulbbul</td>\n      <td>94</td>\n      <td>2020</td>\n      <td>6.6</td>\n      <td>NaN</td>\n      <td>8381</td>\n      <td>NaN</td>\n      <td>NaN</td>\n      <td>A man returns home after years to find his bro...</td>\n      <td>7.0</td>\n    </tr>\n    <tr>\n      <th>9998</th>\n      <td>12567088</td>\n      <td>Raat Akeli Hai</td>\n      <td>149</td>\n      <td>2020</td>\n      <td>7.3</td>\n      <td>NaN</td>\n      <td>12232</td>\n      <td>NaN</td>\n      <td>NaN</td>\n      <td>The film follows a small town cop who is summo...</td>\n      <td>7.0</td>\n    </tr>\n    <tr>\n      <th>9999</th>\n      <td>12749596</td>\n      <td>Host</td>\n      <td>57</td>\n      <td>2020</td>\n      <td>6.6</td>\n      <td>72.0</td>\n      <td>8713</td>\n      <td>NaN</td>\n      <td>NaN</td>\n      <td>Six friends hire a medium to hold a seance via...</td>\n      <td>7.0</td>\n    </tr>\n  </tbody>\n</table>\n</div>",
      "text/plain": "            id          naslov  dolzina  leto  ocena  metascore  glasovi  \\\n9997  12393526         Bulbbul       94  2020    6.6        NaN     8381   \n9998  12567088  Raat Akeli Hai      149  2020    7.3        NaN    12232   \n9999  12749596            Host       57  2020    6.6       72.0     8713   \n\n      zasluzek oznaka                                               opis  \\\n9997       NaN    NaN  A man returns home after years to find his bro...   \n9998       NaN    NaN  The film follows a small town cop who is summo...   \n9999       NaN    NaN  Six friends hire a medium to hold a seance via...   \n\n      ocene_rounded  \n9997            7.0  \n9998            7.0  \n9999            7.0  "
     },
     "execution_count": 27,
     "metadata": {},
     "output_type": "execute_result"
    }
   ],
   "source": [
    "filmi[\"ocene_rounded\"] = ocene_rounded\n",
    "filmi.tail(3)"
   ]
  },
  {
   "cell_type": "markdown",
   "metadata": {},
   "source": [
    "Odstranite novo dodani stolpec z metodo `.drop()` z podanim `columns = ` argumentom."
   ]
  },
  {
   "cell_type": "code",
   "execution_count": 28,
   "metadata": {},
   "outputs": [
    {
     "data": {
      "text/html": "<div>\n<style scoped>\n    .dataframe tbody tr th:only-of-type {\n        vertical-align: middle;\n    }\n\n    .dataframe tbody tr th {\n        vertical-align: top;\n    }\n\n    .dataframe thead th {\n        text-align: right;\n    }\n</style>\n<table border=\"1\" class=\"dataframe\">\n  <thead>\n    <tr style=\"text-align: right;\">\n      <th></th>\n      <th>id</th>\n      <th>naslov</th>\n      <th>dolzina</th>\n      <th>leto</th>\n      <th>ocena</th>\n      <th>metascore</th>\n      <th>glasovi</th>\n      <th>zasluzek</th>\n      <th>oznaka</th>\n      <th>opis</th>\n    </tr>\n  </thead>\n  <tbody>\n    <tr>\n      <th>0</th>\n      <td>4972</td>\n      <td>The Birth of a Nation</td>\n      <td>195</td>\n      <td>1915</td>\n      <td>6.3</td>\n      <td>NaN</td>\n      <td>22363</td>\n      <td>10000000.0</td>\n      <td>NaN</td>\n      <td>The Stoneman family finds its friendship with ...</td>\n    </tr>\n    <tr>\n      <th>1</th>\n      <td>6864</td>\n      <td>Intolerance: Love's Struggle Throughout the Ages</td>\n      <td>163</td>\n      <td>1916</td>\n      <td>7.7</td>\n      <td>99.0</td>\n      <td>13970</td>\n      <td>2180000.0</td>\n      <td>NaN</td>\n      <td>The story of a poor young woman, separated by ...</td>\n    </tr>\n    <tr>\n      <th>2</th>\n      <td>9968</td>\n      <td>Broken Blossoms or The Yellow Man and the Girl</td>\n      <td>90</td>\n      <td>1919</td>\n      <td>7.3</td>\n      <td>NaN</td>\n      <td>9296</td>\n      <td>NaN</td>\n      <td>NaN</td>\n      <td>A frail waif, abused by her brutal boxer fathe...</td>\n    </tr>\n    <tr>\n      <th>3</th>\n      <td>10323</td>\n      <td>Das Cabinet des Dr. Caligari</td>\n      <td>76</td>\n      <td>1920</td>\n      <td>8.1</td>\n      <td>NaN</td>\n      <td>56089</td>\n      <td>NaN</td>\n      <td>NaN</td>\n      <td>Hypnotist Dr. Caligari uses a somnambulist, Ce...</td>\n    </tr>\n    <tr>\n      <th>4</th>\n      <td>12349</td>\n      <td>The Kid</td>\n      <td>68</td>\n      <td>1921</td>\n      <td>8.3</td>\n      <td>NaN</td>\n      <td>110278</td>\n      <td>5450000.0</td>\n      <td>NaN</td>\n      <td>The Tramp cares for an abandoned child, but ev...</td>\n    </tr>\n    <tr>\n      <th>...</th>\n      <td>...</td>\n      <td>...</td>\n      <td>...</td>\n      <td>...</td>\n      <td>...</td>\n      <td>...</td>\n      <td>...</td>\n      <td>...</td>\n      <td>...</td>\n      <td>...</td>\n    </tr>\n    <tr>\n      <th>9995</th>\n      <td>11390036</td>\n      <td>A Fall from Grace</td>\n      <td>115</td>\n      <td>2020</td>\n      <td>5.8</td>\n      <td>34.0</td>\n      <td>10414</td>\n      <td>NaN</td>\n      <td>NaN</td>\n      <td>Disheartened since her ex-husband's affair, Gr...</td>\n    </tr>\n    <tr>\n      <th>9996</th>\n      <td>11905962</td>\n      <td>Sputnik</td>\n      <td>113</td>\n      <td>2020</td>\n      <td>6.3</td>\n      <td>61.0</td>\n      <td>8285</td>\n      <td>NaN</td>\n      <td>NaN</td>\n      <td>The lone survivor of an enigmatic spaceship in...</td>\n    </tr>\n    <tr>\n      <th>9997</th>\n      <td>12393526</td>\n      <td>Bulbbul</td>\n      <td>94</td>\n      <td>2020</td>\n      <td>6.6</td>\n      <td>NaN</td>\n      <td>8381</td>\n      <td>NaN</td>\n      <td>NaN</td>\n      <td>A man returns home after years to find his bro...</td>\n    </tr>\n    <tr>\n      <th>9998</th>\n      <td>12567088</td>\n      <td>Raat Akeli Hai</td>\n      <td>149</td>\n      <td>2020</td>\n      <td>7.3</td>\n      <td>NaN</td>\n      <td>12232</td>\n      <td>NaN</td>\n      <td>NaN</td>\n      <td>The film follows a small town cop who is summo...</td>\n    </tr>\n    <tr>\n      <th>9999</th>\n      <td>12749596</td>\n      <td>Host</td>\n      <td>57</td>\n      <td>2020</td>\n      <td>6.6</td>\n      <td>72.0</td>\n      <td>8713</td>\n      <td>NaN</td>\n      <td>NaN</td>\n      <td>Six friends hire a medium to hold a seance via...</td>\n    </tr>\n  </tbody>\n</table>\n<p>10000 rows × 10 columns</p>\n</div>",
      "text/plain": "            id                                            naslov  dolzina  \\\n0         4972                             The Birth of a Nation      195   \n1         6864  Intolerance: Love's Struggle Throughout the Ages      163   \n2         9968    Broken Blossoms or The Yellow Man and the Girl       90   \n3        10323                      Das Cabinet des Dr. Caligari       76   \n4        12349                                           The Kid       68   \n...        ...                                               ...      ...   \n9995  11390036                                 A Fall from Grace      115   \n9996  11905962                                           Sputnik      113   \n9997  12393526                                           Bulbbul       94   \n9998  12567088                                    Raat Akeli Hai      149   \n9999  12749596                                              Host       57   \n\n      leto  ocena  metascore  glasovi    zasluzek oznaka  \\\n0     1915    6.3        NaN    22363  10000000.0    NaN   \n1     1916    7.7       99.0    13970   2180000.0    NaN   \n2     1919    7.3        NaN     9296         NaN    NaN   \n3     1920    8.1        NaN    56089         NaN    NaN   \n4     1921    8.3        NaN   110278   5450000.0    NaN   \n...    ...    ...        ...      ...         ...    ...   \n9995  2020    5.8       34.0    10414         NaN    NaN   \n9996  2020    6.3       61.0     8285         NaN    NaN   \n9997  2020    6.6        NaN     8381         NaN    NaN   \n9998  2020    7.3        NaN    12232         NaN    NaN   \n9999  2020    6.6       72.0     8713         NaN    NaN   \n\n                                                   opis  \n0     The Stoneman family finds its friendship with ...  \n1     The story of a poor young woman, separated by ...  \n2     A frail waif, abused by her brutal boxer fathe...  \n3     Hypnotist Dr. Caligari uses a somnambulist, Ce...  \n4     The Tramp cares for an abandoned child, but ev...  \n...                                                 ...  \n9995  Disheartened since her ex-husband's affair, Gr...  \n9996  The lone survivor of an enigmatic spaceship in...  \n9997  A man returns home after years to find his bro...  \n9998  The film follows a small town cop who is summo...  \n9999  Six friends hire a medium to hold a seance via...  \n\n[10000 rows x 10 columns]"
     },
     "execution_count": 28,
     "metadata": {},
     "output_type": "execute_result"
    }
   ],
   "source": [
    "filmi.drop(columns = \"ocene_rounded\")"
   ]
  },
  {
   "cell_type": "markdown",
   "metadata": {},
   "source": [
    "### Opomba: slice\n",
    "Izbira podtabele ustvari t.i. \"rezino\" oz. \"slice\".\n",
    "Slice ni kopija tabele, temveč zgolj sklic na izvorno tabelo,\n",
    "in je zato ne moremo spreminjati.\n",
    "Če želimo kopijo, uporabimo metodo `.copy()` na rezini, ki jo nato lahko spreminjamo.\n"
   ]
  },
  {
   "cell_type": "markdown",
   "metadata": {},
   "source": [
    "Izberite podtabelo s stolpci `naslov`, `leto`, in `glasovi`, kateri nato dodate solpec z zaokroženimi ocenami."
   ]
  },
  {
   "cell_type": "code",
   "execution_count": 30,
   "metadata": {},
   "outputs": [],
   "source": [
    "naslov_leto_filmi = filmi[[\"naslov\", \"leto\", \"glasovi\"]]\n",
    "\n",
    "filmi_simple = naslov_leto_filmi.copy()\n",
    "filmi_simple[\"ocene_rounded\"] = ocene_rounded"
   ]
  },
  {
   "cell_type": "markdown",
   "metadata": {},
   "source": [
    "### Filtracija\n",
    "\n",
    "Ustvarite filter, ki izbere filme, ki so izšli pred 1930, in filter za filme po 2017.\n",
    "Združite ju za izbor filmov, ki so izšli pred 1930 ali po 2017."
   ]
  },
  {
   "cell_type": "code",
   "execution_count": 32,
   "metadata": {},
   "outputs": [
    {
     "data": {
      "text/html": "<div>\n<style scoped>\n    .dataframe tbody tr th:only-of-type {\n        vertical-align: middle;\n    }\n\n    .dataframe tbody tr th {\n        vertical-align: top;\n    }\n\n    .dataframe thead th {\n        text-align: right;\n    }\n</style>\n<table border=\"1\" class=\"dataframe\">\n  <thead>\n    <tr style=\"text-align: right;\">\n      <th></th>\n      <th>id</th>\n      <th>naslov</th>\n      <th>dolzina</th>\n      <th>leto</th>\n      <th>ocena</th>\n      <th>metascore</th>\n      <th>glasovi</th>\n      <th>zasluzek</th>\n      <th>oznaka</th>\n      <th>opis</th>\n      <th>ocene_rounded</th>\n    </tr>\n  </thead>\n  <tbody>\n    <tr>\n      <th>0</th>\n      <td>4972</td>\n      <td>The Birth of a Nation</td>\n      <td>195</td>\n      <td>1915</td>\n      <td>6.3</td>\n      <td>NaN</td>\n      <td>22363</td>\n      <td>10000000.0</td>\n      <td>NaN</td>\n      <td>The Stoneman family finds its friendship with ...</td>\n      <td>6.0</td>\n    </tr>\n    <tr>\n      <th>1</th>\n      <td>6864</td>\n      <td>Intolerance: Love's Struggle Throughout the Ages</td>\n      <td>163</td>\n      <td>1916</td>\n      <td>7.7</td>\n      <td>99.0</td>\n      <td>13970</td>\n      <td>2180000.0</td>\n      <td>NaN</td>\n      <td>The story of a poor young woman, separated by ...</td>\n      <td>8.0</td>\n    </tr>\n    <tr>\n      <th>2</th>\n      <td>9968</td>\n      <td>Broken Blossoms or The Yellow Man and the Girl</td>\n      <td>90</td>\n      <td>1919</td>\n      <td>7.3</td>\n      <td>NaN</td>\n      <td>9296</td>\n      <td>NaN</td>\n      <td>NaN</td>\n      <td>A frail waif, abused by her brutal boxer fathe...</td>\n      <td>7.0</td>\n    </tr>\n    <tr>\n      <th>3</th>\n      <td>10323</td>\n      <td>Das Cabinet des Dr. Caligari</td>\n      <td>76</td>\n      <td>1920</td>\n      <td>8.1</td>\n      <td>NaN</td>\n      <td>56089</td>\n      <td>NaN</td>\n      <td>NaN</td>\n      <td>Hypnotist Dr. Caligari uses a somnambulist, Ce...</td>\n      <td>8.0</td>\n    </tr>\n    <tr>\n      <th>4</th>\n      <td>12349</td>\n      <td>The Kid</td>\n      <td>68</td>\n      <td>1921</td>\n      <td>8.3</td>\n      <td>NaN</td>\n      <td>110278</td>\n      <td>5450000.0</td>\n      <td>NaN</td>\n      <td>The Tramp cares for an abandoned child, but ev...</td>\n      <td>8.0</td>\n    </tr>\n    <tr>\n      <th>...</th>\n      <td>...</td>\n      <td>...</td>\n      <td>...</td>\n      <td>...</td>\n      <td>...</td>\n      <td>...</td>\n      <td>...</td>\n      <td>...</td>\n      <td>...</td>\n      <td>...</td>\n      <td>...</td>\n    </tr>\n    <tr>\n      <th>9995</th>\n      <td>11390036</td>\n      <td>A Fall from Grace</td>\n      <td>115</td>\n      <td>2020</td>\n      <td>5.8</td>\n      <td>34.0</td>\n      <td>10414</td>\n      <td>NaN</td>\n      <td>NaN</td>\n      <td>Disheartened since her ex-husband's affair, Gr...</td>\n      <td>6.0</td>\n    </tr>\n    <tr>\n      <th>9996</th>\n      <td>11905962</td>\n      <td>Sputnik</td>\n      <td>113</td>\n      <td>2020</td>\n      <td>6.3</td>\n      <td>61.0</td>\n      <td>8285</td>\n      <td>NaN</td>\n      <td>NaN</td>\n      <td>The lone survivor of an enigmatic spaceship in...</td>\n      <td>6.0</td>\n    </tr>\n    <tr>\n      <th>9997</th>\n      <td>12393526</td>\n      <td>Bulbbul</td>\n      <td>94</td>\n      <td>2020</td>\n      <td>6.6</td>\n      <td>NaN</td>\n      <td>8381</td>\n      <td>NaN</td>\n      <td>NaN</td>\n      <td>A man returns home after years to find his bro...</td>\n      <td>7.0</td>\n    </tr>\n    <tr>\n      <th>9998</th>\n      <td>12567088</td>\n      <td>Raat Akeli Hai</td>\n      <td>149</td>\n      <td>2020</td>\n      <td>7.3</td>\n      <td>NaN</td>\n      <td>12232</td>\n      <td>NaN</td>\n      <td>NaN</td>\n      <td>The film follows a small town cop who is summo...</td>\n      <td>7.0</td>\n    </tr>\n    <tr>\n      <th>9999</th>\n      <td>12749596</td>\n      <td>Host</td>\n      <td>57</td>\n      <td>2020</td>\n      <td>6.6</td>\n      <td>72.0</td>\n      <td>8713</td>\n      <td>NaN</td>\n      <td>NaN</td>\n      <td>Six friends hire a medium to hold a seance via...</td>\n      <td>7.0</td>\n    </tr>\n  </tbody>\n</table>\n<p>749 rows × 11 columns</p>\n</div>",
      "text/plain": "            id                                            naslov  dolzina  \\\n0         4972                             The Birth of a Nation      195   \n1         6864  Intolerance: Love's Struggle Throughout the Ages      163   \n2         9968    Broken Blossoms or The Yellow Man and the Girl       90   \n3        10323                      Das Cabinet des Dr. Caligari       76   \n4        12349                                           The Kid       68   \n...        ...                                               ...      ...   \n9995  11390036                                 A Fall from Grace      115   \n9996  11905962                                           Sputnik      113   \n9997  12393526                                           Bulbbul       94   \n9998  12567088                                    Raat Akeli Hai      149   \n9999  12749596                                              Host       57   \n\n      leto  ocena  metascore  glasovi    zasluzek oznaka  \\\n0     1915    6.3        NaN    22363  10000000.0    NaN   \n1     1916    7.7       99.0    13970   2180000.0    NaN   \n2     1919    7.3        NaN     9296         NaN    NaN   \n3     1920    8.1        NaN    56089         NaN    NaN   \n4     1921    8.3        NaN   110278   5450000.0    NaN   \n...    ...    ...        ...      ...         ...    ...   \n9995  2020    5.8       34.0    10414         NaN    NaN   \n9996  2020    6.3       61.0     8285         NaN    NaN   \n9997  2020    6.6        NaN     8381         NaN    NaN   \n9998  2020    7.3        NaN    12232         NaN    NaN   \n9999  2020    6.6       72.0     8713         NaN    NaN   \n\n                                                   opis  ocene_rounded  \n0     The Stoneman family finds its friendship with ...            6.0  \n1     The story of a poor young woman, separated by ...            8.0  \n2     A frail waif, abused by her brutal boxer fathe...            7.0  \n3     Hypnotist Dr. Caligari uses a somnambulist, Ce...            8.0  \n4     The Tramp cares for an abandoned child, but ev...            8.0  \n...                                                 ...            ...  \n9995  Disheartened since her ex-husband's affair, Gr...            6.0  \n9996  The lone survivor of an enigmatic spaceship in...            6.0  \n9997  A man returns home after years to find his bro...            7.0  \n9998  The film follows a small town cop who is summo...            7.0  \n9999  Six friends hire a medium to hold a seance via...            7.0  \n\n[749 rows x 11 columns]"
     },
     "execution_count": 32,
     "metadata": {},
     "output_type": "execute_result"
    }
   ],
   "source": [
    "pred_1930 = filmi[\"leto\"] < 1930\n",
    "po_2017 = filmi[\"leto\"] > 2017\n",
    "\n",
    "filmi[pred_1930 | po_2017]"
   ]
  },
  {
   "cell_type": "markdown",
   "metadata": {},
   "source": [
    "Definirajte funkcijo, ki preveri ali niz vsebuje kvečjemu dve besedi. Nato s pomočjo `.apply()` izberite vse filme z imeni krajšimi od dveh besed in oceno nad 8."
   ]
  },
  {
   "cell_type": "code",
   "execution_count": 35,
   "metadata": {},
   "outputs": [
    {
     "data": {
      "text/html": "<div>\n<style scoped>\n    .dataframe tbody tr th:only-of-type {\n        vertical-align: middle;\n    }\n\n    .dataframe tbody tr th {\n        vertical-align: top;\n    }\n\n    .dataframe thead th {\n        text-align: right;\n    }\n</style>\n<table border=\"1\" class=\"dataframe\">\n  <thead>\n    <tr style=\"text-align: right;\">\n      <th></th>\n      <th>id</th>\n      <th>naslov</th>\n      <th>dolzina</th>\n      <th>leto</th>\n      <th>ocena</th>\n      <th>metascore</th>\n      <th>glasovi</th>\n      <th>zasluzek</th>\n      <th>oznaka</th>\n      <th>opis</th>\n      <th>ocene_rounded</th>\n    </tr>\n  </thead>\n  <tbody>\n    <tr>\n      <th>4</th>\n      <td>12349</td>\n      <td>The Kid</td>\n      <td>68</td>\n      <td>1921</td>\n      <td>8.3</td>\n      <td>NaN</td>\n      <td>110278</td>\n      <td>5450000.0</td>\n      <td>NaN</td>\n      <td>The Tramp cares for an abandoned child, but ev...</td>\n      <td>8.0</td>\n    </tr>\n    <tr>\n      <th>5</th>\n      <td>12364</td>\n      <td>Körkarlen</td>\n      <td>107</td>\n      <td>1921</td>\n      <td>8.1</td>\n      <td>NaN</td>\n      <td>10158</td>\n      <td>NaN</td>\n      <td>NaN</td>\n      <td>On New Year's Eve, the driver of a ghostly car...</td>\n      <td>8.0</td>\n    </tr>\n    <tr>\n      <th>11</th>\n      <td>15324</td>\n      <td>Sherlock Jr.</td>\n      <td>45</td>\n      <td>1924</td>\n      <td>8.2</td>\n      <td>NaN</td>\n      <td>40303</td>\n      <td>977375.0</td>\n      <td>NaN</td>\n      <td>A film projectionist longs to be a detective, ...</td>\n      <td>8.0</td>\n    </tr>\n    <tr>\n      <th>13</th>\n      <td>15864</td>\n      <td>Zlata mrzlica</td>\n      <td>95</td>\n      <td>1925</td>\n      <td>8.2</td>\n      <td>NaN</td>\n      <td>98472</td>\n      <td>5450000.0</td>\n      <td>NaN</td>\n      <td>A prospector goes to the Klondike in search of...</td>\n      <td>8.0</td>\n    </tr>\n    <tr>\n      <th>14</th>\n      <td>15881</td>\n      <td>Greed</td>\n      <td>140</td>\n      <td>1924</td>\n      <td>8.1</td>\n      <td>NaN</td>\n      <td>8940</td>\n      <td>161800.0</td>\n      <td>NaN</td>\n      <td>The sudden fortune won from a lottery fans suc...</td>\n      <td>8.0</td>\n    </tr>\n    <tr>\n      <th>...</th>\n      <td>...</td>\n      <td>...</td>\n      <td>...</td>\n      <td>...</td>\n      <td>...</td>\n      <td>...</td>\n      <td>...</td>\n      <td>...</td>\n      <td>...</td>\n      <td>...</td>\n      <td>...</td>\n    </tr>\n    <tr>\n      <th>9898</th>\n      <td>8579674</td>\n      <td>1917</td>\n      <td>119</td>\n      <td>2019</td>\n      <td>8.3</td>\n      <td>78.0</td>\n      <td>375975</td>\n      <td>159227644.0</td>\n      <td>R</td>\n      <td>April 6th, 1917. As a regiment assembles to wa...</td>\n      <td>8.0</td>\n    </tr>\n    <tr>\n      <th>9934</th>\n      <td>9052870</td>\n      <td>Chhichhore</td>\n      <td>143</td>\n      <td>2019</td>\n      <td>8.2</td>\n      <td>NaN</td>\n      <td>30459</td>\n      <td>898575.0</td>\n      <td>NaN</td>\n      <td>A tragic incident forces Anirudh, a middle-age...</td>\n      <td>8.0</td>\n    </tr>\n    <tr>\n      <th>9957</th>\n      <td>9477520</td>\n      <td>Asuran</td>\n      <td>141</td>\n      <td>2019</td>\n      <td>8.5</td>\n      <td>NaN</td>\n      <td>8974</td>\n      <td>NaN</td>\n      <td>NaN</td>\n      <td>The teenage son of a farmer from an underprivi...</td>\n      <td>8.0</td>\n    </tr>\n    <tr>\n      <th>9971</th>\n      <td>9900782</td>\n      <td>Kaithi</td>\n      <td>145</td>\n      <td>2019</td>\n      <td>8.5</td>\n      <td>NaN</td>\n      <td>8741</td>\n      <td>NaN</td>\n      <td>NaN</td>\n      <td>A recently released prisoner becomes involved ...</td>\n      <td>8.0</td>\n    </tr>\n    <tr>\n      <th>9981</th>\n      <td>10324144</td>\n      <td>Article 15</td>\n      <td>130</td>\n      <td>2019</td>\n      <td>8.2</td>\n      <td>NaN</td>\n      <td>21888</td>\n      <td>NaN</td>\n      <td>NaN</td>\n      <td>In the rural heartlands of India, an upright p...</td>\n      <td>8.0</td>\n    </tr>\n  </tbody>\n</table>\n<p>303 rows × 11 columns</p>\n</div>",
      "text/plain": "            id         naslov  dolzina  leto  ocena  metascore  glasovi  \\\n4        12349        The Kid       68  1921    8.3        NaN   110278   \n5        12364      Körkarlen      107  1921    8.1        NaN    10158   \n11       15324   Sherlock Jr.       45  1924    8.2        NaN    40303   \n13       15864  Zlata mrzlica       95  1925    8.2        NaN    98472   \n14       15881          Greed      140  1924    8.1        NaN     8940   \n...        ...            ...      ...   ...    ...        ...      ...   \n9898   8579674           1917      119  2019    8.3       78.0   375975   \n9934   9052870     Chhichhore      143  2019    8.2        NaN    30459   \n9957   9477520         Asuran      141  2019    8.5        NaN     8974   \n9971   9900782         Kaithi      145  2019    8.5        NaN     8741   \n9981  10324144     Article 15      130  2019    8.2        NaN    21888   \n\n         zasluzek oznaka                                               opis  \\\n4       5450000.0    NaN  The Tramp cares for an abandoned child, but ev...   \n5             NaN    NaN  On New Year's Eve, the driver of a ghostly car...   \n11       977375.0    NaN  A film projectionist longs to be a detective, ...   \n13      5450000.0    NaN  A prospector goes to the Klondike in search of...   \n14       161800.0    NaN  The sudden fortune won from a lottery fans suc...   \n...           ...    ...                                                ...   \n9898  159227644.0      R  April 6th, 1917. As a regiment assembles to wa...   \n9934     898575.0    NaN  A tragic incident forces Anirudh, a middle-age...   \n9957          NaN    NaN  The teenage son of a farmer from an underprivi...   \n9971          NaN    NaN  A recently released prisoner becomes involved ...   \n9981          NaN    NaN  In the rural heartlands of India, an upright p...   \n\n      ocene_rounded  \n4               8.0  \n5               8.0  \n11              8.0  \n13              8.0  \n14              8.0  \n...             ...  \n9898            8.0  \n9934            8.0  \n9957            8.0  \n9971            8.0  \n9981            8.0  \n\n[303 rows x 11 columns]"
     },
     "execution_count": 35,
     "metadata": {},
     "output_type": "execute_result"
    }
   ],
   "source": [
    "def vsaj_dve(s):\n",
    "    w = s.split()\n",
    "    return len(w) <= 2\n",
    "\n",
    "kratki_naslovi = filmi[\"naslov\"].apply(vsaj_dve)\n",
    "\n",
    "dobre_ocene = filmi[\"ocena\"] > 8\n",
    "\n",
    "filmi[kratki_naslovi & dobre_ocene]"
   ]
  },
  {
   "cell_type": "markdown",
   "metadata": {},
   "source": [
    "### Histogrami\n",
    "\n",
    "Združite filme po ocenah in jih preštejte."
   ]
  },
  {
   "cell_type": "code",
   "execution_count": 40,
   "metadata": {},
   "outputs": [],
   "source": [
    "filmi_po_ocenah = filmi.groupby(\"ocena\").size()"
   ]
  },
  {
   "cell_type": "markdown",
   "metadata": {},
   "source": [
    "Naredite stolpični diagram teh podatkov."
   ]
  },
  {
   "cell_type": "code",
   "execution_count": 44,
   "metadata": {},
   "outputs": [
    {
     "data": {
      "text/plain": "<AxesSubplot:xlabel='ocena'>"
     },
     "execution_count": 44,
     "metadata": {},
     "output_type": "execute_result"
    },
    {
     "data": {
      "image/png": "[encoded data removed]",
      "text/plain": "<Figure size 432x288 with 1 Axes>"
     },
     "metadata": {
      "needs_background": "light"
     },
     "output_type": "display_data"
    }
   ],
   "source": [
    "filmi_po_ocenah.plot.bar()"
   ]
  },
  {
   "cell_type": "markdown",
   "metadata": {},
   "source": [
    "Tabele imajo metodo `.hist()`, ki omogoča izgradnjo histogramov za stolpce. Uporabite to metodo za prikaz poenostavljenih podatkov."
   ]
  },
  {
   "cell_type": "code",
   "execution_count": 45,
   "metadata": {},
   "outputs": [
    {
     "data": {
      "text/plain": "array([[<AxesSubplot:title={'center':'ocene_rounded'}>]], dtype=object)"
     },
     "execution_count": 45,
     "metadata": {},
     "output_type": "execute_result"
    },
    {
     "data": {
      "image/png": "[encoded data removed]",
      "text/plain": "<Figure size 432x288 with 1 Axes>"
     },
     "metadata": {
      "needs_background": "light"
     },
     "output_type": "display_data"
    }
   ],
   "source": [
    "filmi_simple[[\"ocene_rounded\"]].hist()"
   ]
  },
  {
   "cell_type": "markdown",
   "metadata": {},
   "source": [
    "### Izris povprečne dolžine filma glede na leto"
   ]
  },
  {
   "cell_type": "code",
   "execution_count": 48,
   "metadata": {},
   "outputs": [
    {
     "data": {
      "image/png": "[encoded data removed]",
      "text/plain": "<Figure size 432x288 with 1 Axes>"
     },
     "metadata": {
      "needs_background": "light"
     },
     "output_type": "display_data"
    }
   ],
   "source": [
    "filmi_po_letih = filmi.groupby(\"leto\")\n",
    "povprecja_po_letih = filmi_po_letih.mean()\n",
    "povprecne_dolzine = povprecja_po_letih[\"dolzina\"].plot.bar()"
   ]
  },
  {
   "cell_type": "markdown",
   "metadata": {},
   "source": [
    "### Izris skupnega zasluzka za posamezno leto"
   ]
  },
  {
   "cell_type": "code",
   "execution_count": 49,
   "metadata": {},
   "outputs": [
    {
     "data": {
      "text/plain": "<AxesSubplot:xlabel='leto'>"
     },
     "execution_count": 49,
     "metadata": {},
     "output_type": "execute_result"
    },
    {
     "data": {
      "image/png": "[encoded data removed]",
      "text/plain": "<Figure size 432x288 with 1 Axes>"
     },
     "metadata": {
      "needs_background": "light"
     },
     "output_type": "display_data"
    }
   ],
   "source": [
    "filmi_po_letih.sum()[[\"zasluzek\"]].plot()"
   ]
  },
  {
   "cell_type": "code",
   "execution_count": null,
   "metadata": {},
   "outputs": [],
   "source": []
  }
 ],
 "metadata": {
  "kernelspec": {
   "display_name": "Python 3.9.2 64-bit ('3.9')",
   "name": "python392jvsc74a57bd0b8bdd4e700647ba2b08c59e5df8b7da1dcf50a218bcd4c1bcd9b3dc92e8788e5"
  },
  "language_info": {
   "codemirror_mode": {
    "name": "ipython",
    "version": 3
   },
   "file_extension": ".py",
   "mimetype": "text/x-python",
   "name": "python",
   "nbconvert_exporter": "python",
   "pygments_lexer": "ipython3",
   "version": "3.9.2"
  },
  "orig_nbformat": 3
 },
 "nbformat": 4,
 "nbformat_minor": 2
}